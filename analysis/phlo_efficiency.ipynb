{
 "cells": [
  {
   "cell_type": "code",
   "execution_count": 14,
   "metadata": {},
   "outputs": [],
   "source": [
    "import numpy as np\n",
    "import simulator\n",
    "import csv\n",
    "import subprocess\n",
    "import pandas as pd\n",
    "import os\n",
    "import matplotlib.pyplot as plt"
   ]
  },
  {
   "cell_type": "code",
   "execution_count": 6,
   "metadata": {},
   "outputs": [],
   "source": [
    "genotype_dict = {\"0/0\" : 0,\n",
    "                \"0/1\" : 1,\n",
    "                \"1/0\" : 1,\n",
    "                \"1/1\" : 2,\n",
    "                \"0/.\" : 0,\n",
    "                \"./0\" : 0,\n",
    "                \"1/.\" : 2,\n",
    "                \"./1\" : 2,\n",
    "                \"./.\" : -1}\n",
    "def compare_VCF_cells(real_f, inferred_f, n_sites):\n",
    "    real_f.seek(0)\n",
    "    inferred_f.seek(0)\n",
    "    true_reader = list(csv.reader(real_f, delimiter='\\t'))\n",
    "    call_reader = list(csv.reader(inferred_f, delimiter='\\t'))\n",
    "    #Cells\n",
    "    TP = FN = TN = FP = 0\n",
    "    for i, field in enumerate(true_reader[0]):\n",
    "        if field in genotype_dict.keys():\n",
    "            first_cell_col_t = i\n",
    "            break\n",
    "    for i, field in enumerate(call_reader[0]):\n",
    "        if field in genotype_dict.keys():\n",
    "            first_cell_col_c = i\n",
    "            break\n",
    "    m = len(true_reader[0]) - first_cell_col_t\n",
    "    for true_line in true_reader:\n",
    "        found = False\n",
    "        for call_line in call_reader:\n",
    "            if call_line[0] == true_line[0] and call_line[1] == true_line[1]:\n",
    "                #Correct site call found\n",
    "                found = True\n",
    "                for i in range(m):\n",
    "                    if genotype_dict[true_line[first_cell_col_t + i]] > 0:\n",
    "                        #Cell is really mutant\n",
    "                        if genotype_dict[call_line[first_cell_col_c + i]] > 0:\n",
    "                            #And called correctly\n",
    "                            TP += 1\n",
    "                        else:\n",
    "                            #Real mutant not called\n",
    "                            FN += 1\n",
    "                    else:\n",
    "                        #Cell is welltype\n",
    "                        if genotype_dict[call_line[first_cell_col_c + i]] > 0:\n",
    "                            #But called as mutant\n",
    "                            FP += 1\n",
    "                        else:\n",
    "                            #Real wt called as wt\n",
    "                            TN += 1\n",
    "                break\n",
    "        if not found:\n",
    "            # Site mutant but not called\n",
    "            for i in range(m):\n",
    "                if genotype_dict[true_line[first_cell_col_t + i]] > 0:\n",
    "                    #Cell actually mutant\n",
    "                    FN += 1\n",
    "                else:\n",
    "                    TN += 1\n",
    "    for call_line in call_reader:\n",
    "        found = False\n",
    "        for true_line in true_reader:\n",
    "            if call_line[0] == true_line[0] and call_line[1] == call_line[1]:\n",
    "                #Already dealt with correctly called sites above\n",
    "                found = True\n",
    "                break\n",
    "        #Site called with no real mutation\n",
    "        if not found:\n",
    "            for i in range(m):\n",
    "                if genotype_dict[call_line[first_cell_col_c + i]] > 0:\n",
    "                    #Cell called mutant\n",
    "                    FP += 1\n",
    "    TN = m * n_sites - TP - FP - FN\n",
    "    precision = TP/(TP + FP)\n",
    "    recall    = TP/(TP + FN)\n",
    "    F1        = (2*TP)/(2*TP + FP + FN)\n",
    "    return (precision, recall, F1)"
   ]
  },
  {
   "cell_type": "code",
   "execution_count": 7,
   "metadata": {},
   "outputs": [],
   "source": [
    "def test_phylo(m_cells, iters, params):\n",
    "    cell_results = pd.DataFrame(columns=[\"i\",\"Phylo\",\"Precision\",\"Recall\",\"F1\"])\n",
    "    for i in range(iters):\n",
    "        T = simulator.Phylogeny()\n",
    "        T.evolve(n_generations=1000, germline=True)\n",
    "        T.evolve(n_cells=5, germline=False)\n",
    "        m = len(T.active_nodes)\n",
    "        T.prepare()\n",
    "        vcf_f = open(\"temp_r.vcf\", \"w+\")\n",
    "        T.write_vcf(vcf_f)\n",
    "        vcf_f.close()\n",
    "        pfile = open(\"temp.pileup\", \"w+\")\n",
    "        T.write_pileup(pfile)\n",
    "        pfile.close()\n",
    "        args = [\"../SCarborSNV\", \"-m\", str(m),\"-p\", \"temp.pileup\", \"-o\" \"temp_c.vcf\"]\n",
    "        for name, val in params.items():\n",
    "            args.append(\"--{}={}\".format(name, val))\n",
    "        subprocess.run(args)\n",
    "        real_vcf = open(\"temp_r.vcf\", \"r\")\n",
    "        call_vcf = open(\"temp_c.vcf\", \"r\")\n",
    "        cell_results.loc[2*i] = [i, 'Y', *compare_VCF_cells(real_vcf, call_vcf, 2000)]\n",
    "        real_vcf.close()\n",
    "        call_vcf.close()\n",
    "        args.append(\"--omit-phlo-inference\")\n",
    "        subprocess.run(args)\n",
    "        real_vcf = open(\"temp_r.vcf\", \"r\")\n",
    "        call_vcf = open(\"temp_c.vcf\", \"r\")\n",
    "        cell_results.loc[2*i + 1] = [i, 'N', *compare_VCF_cells(real_vcf, call_vcf, 2000)]\n",
    "        real_vcf.close()\n",
    "        call_vcf.close()\n",
    "    os.remove(\"temp.pileup\")\n",
    "    os.remove(\"temp_r.vcf\")\n",
    "    os.remove(\"temp_c.vcf\")\n",
    "    return cell_results"
   ]
  },
  {
   "cell_type": "code",
   "execution_count": 11,
   "metadata": {},
   "outputs": [],
   "source": [
    "cell_results = test_phylo(10, 5, {\"posterior-threshold\":0})"
   ]
  },
  {
   "cell_type": "code",
   "execution_count": 12,
   "metadata": {},
   "outputs": [
    {
     "data": {
      "text/html": [
       "<div>\n",
       "<style scoped>\n",
       "    .dataframe tbody tr th:only-of-type {\n",
       "        vertical-align: middle;\n",
       "    }\n",
       "\n",
       "    .dataframe tbody tr th {\n",
       "        vertical-align: top;\n",
       "    }\n",
       "\n",
       "    .dataframe thead th {\n",
       "        text-align: right;\n",
       "    }\n",
       "</style>\n",
       "<table border=\"1\" class=\"dataframe\">\n",
       "  <thead>\n",
       "    <tr style=\"text-align: right;\">\n",
       "      <th></th>\n",
       "      <th>Precision</th>\n",
       "      <th>Recall</th>\n",
       "      <th>F1</th>\n",
       "    </tr>\n",
       "    <tr>\n",
       "      <th>Phylo</th>\n",
       "      <th></th>\n",
       "      <th></th>\n",
       "      <th></th>\n",
       "    </tr>\n",
       "  </thead>\n",
       "  <tbody>\n",
       "    <tr>\n",
       "      <th>N</th>\n",
       "      <td>0.681363</td>\n",
       "      <td>0.885110</td>\n",
       "      <td>0.737355</td>\n",
       "    </tr>\n",
       "    <tr>\n",
       "      <th>Y</th>\n",
       "      <td>0.650788</td>\n",
       "      <td>0.926598</td>\n",
       "      <td>0.731590</td>\n",
       "    </tr>\n",
       "  </tbody>\n",
       "</table>\n",
       "</div>"
      ],
      "text/plain": [
       "       Precision    Recall        F1\n",
       "Phylo                               \n",
       "N       0.681363  0.885110  0.737355\n",
       "Y       0.650788  0.926598  0.731590"
      ]
     },
     "execution_count": 12,
     "metadata": {},
     "output_type": "execute_result"
    }
   ],
   "source": [
    "cell_results.groupby(['Phylo']).mean()"
   ]
  },
  {
   "cell_type": "code",
   "execution_count": 40,
   "metadata": {},
   "outputs": [
    {
     "data": {
      "text/plain": [
       "0.867272165204473"
      ]
     },
     "execution_count": 40,
     "metadata": {},
     "output_type": "execute_result"
    }
   ],
   "source": [
    "#Bigger analysis on other machine. candidate thresh was 0.5, 1000 pregenerations Trees with 10 leaves\n",
    "#With second thresh\n",
    "cell_results = pd.read_csv(\"phylo_cell_results.csv\")\n",
    "g1 = cell_results.loc[cell_results.Phylo == 'Y']\n",
    "g2 = cell_results.loc[cell_results.Phylo == 'N']\n",
    "g1.F1.mean()"
   ]
  },
  {
   "cell_type": "code",
   "execution_count": 47,
   "metadata": {},
   "outputs": [
    {
     "data": {
      "text/plain": [
       "(0.8, 1.005)"
      ]
     },
     "execution_count": 47,
     "metadata": {},
     "output_type": "execute_result"
    },
    {
     "data": {
      "image/png": "[encoded data removed]",
      "text/plain": [
       "<Figure size 432x288 with 1 Axes>"
      ]
     },
     "metadata": {
      "needs_background": "light"
     },
     "output_type": "display_data"
    }
   ],
   "source": [
    "fig = plt.figure()\n",
    "ax = plt.gca()\n",
    "ax.scatter(g1['Recall'], g1['Precision'])\n",
    "ax.scatter(g2['Recall'], g2['Precision'])\n",
    "ax.set_ylim([0,1.05])\n",
    "ax.set_xlim([0.8,1.005])\n",
    "#ax.set_yscale('log')\n",
    "#ax.set_xscale('log')"
   ]
  }
 ],
 "metadata": {
  "kernelspec": {
   "display_name": "Python 3",
   "language": "python",
   "name": "python3"
  },
  "language_info": {
   "codemirror_mode": {
    "name": "ipython",
    "version": 3
   },
   "file_extension": ".py",
   "mimetype": "text/x-python",
   "name": "python",
   "nbconvert_exporter": "python",
   "pygments_lexer": "ipython3",
   "version": "3.5.2"
  }
 },
 "nbformat": 4,
 "nbformat_minor": 2
}
