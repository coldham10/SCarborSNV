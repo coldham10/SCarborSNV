{
 "cells": [
  {
   "cell_type": "code",
   "execution_count": 1,
   "metadata": {},
   "outputs": [],
   "source": [
    "import numpy as np\n",
    "import simulator\n"
   ]
  },
  {
   "cell_type": "code",
   "execution_count": null,
   "metadata": {
    "collapsed": true
   },
   "outputs": [],
   "source": [
    "genotype_dict = {\"0/0\" : 0,\n",
    "                \"0/1\" : 1,\n",
    "                \"1/0\" : 1,\n",
    "                \"1/1\" : 2,\n",
    "                \"0/.\" : 0,\n",
    "                \"./0\" : 0,\n",
    "                \"1/.\" : 2,\n",
    "                \"./1\" : 2,\n",
    "                \"./.\" : -1}\n",
    "\n",
    "def compare_VCFs(real_f, inferred_f):\n",
    "    real_f.seek(0)\n",
    "    inferred_f.seek(0)\n",
    "    #Which sites were called\n",
    "    site_confusion = [[0,0],[0,0]]\n",
    "    #Which individual cells were called\n",
    "    cell_confusion = [[0,0],[0,0]]\n",
    "    #Which exact genotypes were called\n",
    "    genotype_confusion = [[0,0,0,0],[0,0,0,0],[0,0,0,0],[0,0,0,0]]\n",
    "    "
   ]
  }
 ],
 "metadata": {
  "kernelspec": {
   "display_name": "Python 3",
   "language": "python",
   "name": "python3"
  },
  "language_info": {
   "codemirror_mode": {
    "name": "ipython",
    "version": 3
   },
   "file_extension": ".py",
   "mimetype": "text/x-python",
   "name": "python",
   "nbconvert_exporter": "python",
   "pygments_lexer": "ipython3",
   "version": "3.5.2"
  }
 },
 "nbformat": 4,
 "nbformat_minor": 2
}
