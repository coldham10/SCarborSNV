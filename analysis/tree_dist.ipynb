{
 "cells": [
  {
   "cell_type": "code",
   "execution_count": 85,
   "metadata": {},
   "outputs": [],
   "source": [
    "import zss\n",
    "from Bio import Phylo\n",
    "import numpy as np\n",
    "import simulator\n",
    "import csv\n",
    "import subprocess\n",
    "import pandas as pd\n",
    "import os\n",
    "import matplotlib.pyplot as plt"
   ]
  },
  {
   "cell_type": "code",
   "execution_count": 95,
   "metadata": {},
   "outputs": [
    {
     "data": {
      "image/png": "[encoded data removed]",
      "text/plain": [
       "<Figure size 432x288 with 1 Axes>"
      ]
     },
     "metadata": {
      "needs_background": "light"
     },
     "output_type": "display_data"
    },
    {
     "data": {
      "image/png": "[encoded data removed]",
      "text/plain": [
       "<Figure size 432x288 with 1 Axes>"
      ]
     },
     "metadata": {
      "needs_background": "light"
     },
     "output_type": "display_data"
    },
    {
     "data": {
      "text/plain": [
       "2.0"
      ]
     },
     "execution_count": 95,
     "metadata": {},
     "output_type": "execute_result"
    }
   ],
   "source": [
    "tree1 = Phylo.read('test_tree1.newick', 'newick')\n",
    "tree2 = Phylo.read('test_tree2.newick', 'newick')\n",
    "Phylo.draw(tree2)\n",
    "tree2.ladderize()\n",
    "Phylo.draw(tree2)\n",
    "def get_children(node):\n",
    "    if node.is_terminal():\n",
    "        return []\n",
    "    elif len(node) == 1:\n",
    "        return[node[0]]\n",
    "    else:\n",
    "        return[node[0],node[1]]\n",
    "false_labels = 12778\n",
    "def get_label(node):\n",
    "    global false_labels\n",
    "    if node.name == None:\n",
    "        node.name = str(false_labels)\n",
    "        #false_labels += 1\n",
    "    return node.name\n",
    "def label_dist(A, B):\n",
    "    if A == B:\n",
    "        return 0\n",
    "    else:\n",
    "        return 1\n",
    "\n",
    "    \n",
    "dist = zss.simple_distance(tree1.root, tree2.root, get_children, get_label, label_dist)\n",
    "dist"
   ]
  },
  {
   "cell_type": "code",
   "execution_count": 5,
   "metadata": {},
   "outputs": [],
   "source": [
    "def strdist(a, b):\n",
    "        if a == b:\n",
    "            return 0\n",
    "        else:\n",
    "            return 1\n",
    "#From timtadh/zhang-shasha example\n",
    "class Node(object):\n",
    "\n",
    "    def __init__(self, label):\n",
    "        self.my_label = label\n",
    "        self.my_children = list()\n",
    "\n",
    "    @staticmethod\n",
    "    def get_children(node):\n",
    "        return node.my_children\n",
    "\n",
    "    @staticmethod\n",
    "    def get_label(node):\n",
    "        return node.my_label\n",
    "\n",
    "    def addkid(self, node, before=False):\n",
    "        if before:  self.my_children.insert(0, node)\n",
    "        else:   self.my_children.append(node)\n",
    "        return self"
   ]
  }
 ],
 "metadata": {
  "kernelspec": {
   "display_name": "Python 3",
   "language": "python",
   "name": "python3"
  },
  "language_info": {
   "codemirror_mode": {
    "name": "ipython",
    "version": 3
   },
   "file_extension": ".py",
   "mimetype": "text/x-python",
   "name": "python",
   "nbconvert_exporter": "python",
   "pygments_lexer": "ipython3",
   "version": "3.5.2"
  }
 },
 "nbformat": 4,
 "nbformat_minor": 2
}
