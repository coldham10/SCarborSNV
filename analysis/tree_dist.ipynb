{
 "cells": [
  {
   "cell_type": "code",
   "execution_count": 4,
   "metadata": {},
   "outputs": [],
   "source": [
    "import zss\n",
    "from Bio import Phylo\n",
    "import numpy as np\n",
    "import simulator\n",
    "import csv\n",
    "import subprocess\n",
    "import pandas as pd\n",
    "import os\n",
    "import matplotlib.pyplot as plt\n",
    "import sumoted"
   ]
  },
  {
   "cell_type": "code",
   "execution_count": 31,
   "metadata": {},
   "outputs": [
    {
     "data": {
      "image/png": "[encoded data removed]",
      "text/plain": [
       "<Figure size 432x288 with 1 Axes>"
      ]
     },
     "metadata": {
      "needs_background": "light"
     },
     "output_type": "display_data"
    },
    {
     "data": {
      "image/png": "[encoded data removed]",
      "text/plain": [
       "<Figure size 432x288 with 1 Axes>"
      ]
     },
     "metadata": {
      "needs_background": "light"
     },
     "output_type": "display_data"
    }
   ],
   "source": [
    "tree1 = Phylo.read('test_tree1.newick', 'newick')\n",
    "tree2 = Phylo.read('test_tree2.newick', 'newick')\n",
    "tree1.ladderize()\n",
    "tree2.ladderize()\n",
    "Phylo.draw(tree1)\n",
    "Phylo.draw(tree2)\n",
    "def get_children(node):\n",
    "    if node.is_terminal():\n",
    "        return []\n",
    "    elif len(node) == 1:\n",
    "        return[node[0]]\n",
    "    else:\n",
    "        return[node[0],node[1]]\n",
    "false_labels = ord('A')\n",
    "def get_label(node):\n",
    "    global false_labels\n",
    "    if node.name == None:\n",
    "        node.name = 'X' + chr(false_labels)\n",
    "        false_labels += 1\n",
    "    return node.name\n",
    "def label_dist(A, B):\n",
    "    if A == B:\n",
    "        return 0\n",
    "    else:\n",
    "        return 1\n",
    "\n",
    "    \n",
    "#dist = zss.simple_distance(tree1.root, tree2.root, get_children, get_label, label_dist)\n",
    "#dist"
   ]
  },
  {
   "cell_type": "code",
   "execution_count": 14,
   "metadata": {},
   "outputs": [],
   "source": []
  },
  {
   "cell_type": "code",
   "execution_count": 27,
   "metadata": {},
   "outputs": [
    {
     "data": {
      "text/plain": [
       "b'\\n    SuMoTED\\n    =======\\n    Subtree Moving Tree Edit Distance code. Computes the pairwise distance\\n    between trees in a directory using the SuMoTED algorithm. Usage:\\n      $ python SuMoTED.py directory\\n    here directory is a path to a directory of trees. Trees should be specified\\n    in a file listing (parent, child) relationships. Trivial example found in /data/toy:\\n                   A                       A\\n                 /   \\\\                   /   \\\\\\n        T1  =   B     C       T2  =     D     C\\n                |                             |\\n                D                             B\\n   then /data/toy/ should contain two files named T1 and T2, with content:\\n       T1            T2\\n       A, B          A, D\\n       A, C          A, C\\n       B, D          C, B\\n    (as it does). We can convert T1 to T2 with a local upward move of D to\\n    be a child of A (cost 1), then a local downward move of B to be a child of\\n    C (cost 1). Therefore, the un-normalised distance between T1 and T2 is 2, which\\n    is actually the maximal distance between trees with these nodes, so they\\n    have a normalised similarity = 0.0. This can be verified by running:\\n      $ python SuMoTED.py ./data/toy\\n    \\n'"
      ]
     },
     "execution_count": 27,
     "metadata": {},
     "output_type": "execute_result"
    }
   ],
   "source": []
  }
 ],
 "metadata": {
  "kernelspec": {
   "display_name": "Python 3",
   "language": "python",
   "name": "python3"
  },
  "language_info": {
   "codemirror_mode": {
    "name": "ipython",
    "version": 3
   },
   "file_extension": ".py",
   "mimetype": "text/x-python",
   "name": "python",
   "nbconvert_exporter": "python",
   "pygments_lexer": "ipython3",
   "version": "3.5.2"
  }
 },
 "nbformat": 4,
 "nbformat_minor": 2
}
