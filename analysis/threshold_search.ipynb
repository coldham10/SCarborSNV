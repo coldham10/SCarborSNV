{
 "cells": [
  {
   "cell_type": "code",
   "execution_count": 14,
   "metadata": {},
   "outputs": [],
   "source": [
    "import numpy as np\n",
    "import simulator\n",
    "import csv\n",
    "import subprocess\n",
    "import pandas as pd\n",
    "import os\n",
    "import matplotlib.pyplot as plt"
   ]
  },
  {
   "cell_type": "code",
   "execution_count": 2,
   "metadata": {},
   "outputs": [],
   "source": [
    "genotype_dict = {\"0/0\" : 0,\n",
    "                \"0/1\" : 1,\n",
    "                \"1/0\" : 1,\n",
    "                \"1/1\" : 2,\n",
    "                \"0/.\" : 0,\n",
    "                \"./0\" : 0,\n",
    "                \"1/.\" : 2,\n",
    "                \"./1\" : 2,\n",
    "                \"./.\" : -1}\n",
    "\n",
    "def compare_VCF_sites(real_f, inferred_f, n_sites):\n",
    "    real_f.seek(0)\n",
    "    inferred_f.seek(0)\n",
    "    true_reader = list(csv.reader(real_f, delimiter='\\t'))\n",
    "    call_reader = list(csv.reader(inferred_f, delimiter='\\t'))\n",
    "    TP = FN = TN = FP = 0\n",
    "    #Sites only\n",
    "    for true_line in true_reader:\n",
    "        found = False\n",
    "        #True Positive\n",
    "        for call_line in call_reader:\n",
    "            if call_line[0] == true_line[0] and call_line[1] == true_line[1]:\n",
    "                TP += 1\n",
    "                found = True\n",
    "                break\n",
    "        #False Negative\n",
    "        if not found:\n",
    "            FN += 1\n",
    "    for call_line in call_reader:\n",
    "        found = False\n",
    "        #True Positive (again, not counting)\n",
    "        for true_line in true_reader:\n",
    "            if call_line[0] == true_line[0] and call_line[1] == call_line[1]:\n",
    "                found = True\n",
    "                break\n",
    "        #False Positive\n",
    "        if not found:\n",
    "            FP += 1\n",
    "    #True negatives\n",
    "    TN = n_sites - TP - FN - FP\n",
    "    precision = TP/(TP + FP)\n",
    "    recall    = TP/(TP + FN)\n",
    "    F1        = (2*TP)/(2*TP + FP + FN)\n",
    "    return (precision, recall, F1)\n",
    "    #return (TP,FN,FP,TN)\n",
    "    \n",
    "\n",
    "        \n",
    "    "
   ]
  },
  {
   "cell_type": "code",
   "execution_count": 89,
   "metadata": {},
   "outputs": [],
   "source": [
    "def compare_VCF_cells(real_f, inferred_f, n_sites):\n",
    "    real_f.seek(0)\n",
    "    inferred_f.seek(0)\n",
    "    true_reader = list(csv.reader(real_f, delimiter='\\t'))\n",
    "    call_reader = list(csv.reader(inferred_f, delimiter='\\t'))\n",
    "    #Cells\n",
    "    TP = FN = TN = FP = 0\n",
    "    for i, field in enumerate(true_reader[0]):\n",
    "        if field in genotype_dict.keys():\n",
    "            first_cell_col_t = i\n",
    "            break\n",
    "    for i, field in enumerate(call_reader[0]):\n",
    "        if field in genotype_dict.keys():\n",
    "            first_cell_col_c = i\n",
    "            break\n",
    "    m = len(true_reader[0]) - first_cell_col_t\n",
    "    for true_line in true_reader:\n",
    "        found = False\n",
    "        for call_line in call_reader:\n",
    "            if call_line[0] == true_line[0] and call_line[1] == true_line[1]:\n",
    "                #Correct site call found\n",
    "                found = True\n",
    "                for i in range(m):\n",
    "                    if genotype_dict[true_line[first_cell_col_t + i]] > 0:\n",
    "                        #Cell is really mutant\n",
    "                        if genotype_dict[call_line[first_cell_col_c + i]] > 0:\n",
    "                            #And called correctly\n",
    "                            TP += 1\n",
    "                        else:\n",
    "                            #Real mutant not called\n",
    "                            FN += 1\n",
    "                    else:\n",
    "                        #Cell is welltype\n",
    "                        if genotype_dict[call_line[first_cell_col_c + i]] > 0:\n",
    "                            #But called as mutant\n",
    "                            FP += 1\n",
    "                        else:\n",
    "                            #Real wt called as wt\n",
    "                            TN += 1\n",
    "                break\n",
    "        if not found:\n",
    "            # Site mutant but not called\n",
    "            for i in range(m):\n",
    "                if genotype_dict[true_line[first_cell_col_t + i]] > 0:\n",
    "                    #Cell actually mutant\n",
    "                    FN += 1\n",
    "                else:\n",
    "                    TN += 1\n",
    "    for call_line in call_reader:\n",
    "        found = False\n",
    "        for true_line in true_reader:\n",
    "            if call_line[0] == true_line[0] and call_line[1] == call_line[1]:\n",
    "                #Already dealt with correctly called sites above\n",
    "                found = True\n",
    "                break\n",
    "        #Site called with no real mutation\n",
    "        if not found:\n",
    "            for i in range(m):\n",
    "                if genotype_dict[call_line[first_cell_col_c + i]] > 0:\n",
    "                    #Cell called mutant\n",
    "                    FP += 1\n",
    "    TN = m * n_sites - TP - FP - FN\n",
    "    precision = TP/(TP + FP)\n",
    "    recall    = TP/(TP + FN)\n",
    "    F1        = (2*TP)/(2*TP + FP + FN)\n",
    "    return (precision, recall, F1)"
   ]
  },
  {
   "cell_type": "code",
   "execution_count": 3,
   "metadata": {},
   "outputs": [
    {
     "ename": "FileNotFoundError",
     "evalue": "[Errno 2] No such file or directory: 'temp_r.vcf'",
     "output_type": "error",
     "traceback": [
      "\u001b[0;31m---------------------------------------------------------------------------\u001b[0m",
      "\u001b[0;31mFileNotFoundError\u001b[0m                         Traceback (most recent call last)",
      "\u001b[0;32m<ipython-input-3-265a0fe218c8>\u001b[0m in \u001b[0;36m<module>\u001b[0;34m\u001b[0m\n\u001b[0;32m----> 1\u001b[0;31m \u001b[0mreal_vcf\u001b[0m \u001b[0;34m=\u001b[0m \u001b[0mopen\u001b[0m\u001b[0;34m(\u001b[0m\u001b[0;34m\"temp_r.vcf\"\u001b[0m\u001b[0;34m,\u001b[0m \u001b[0;34m\"r\"\u001b[0m\u001b[0;34m)\u001b[0m\u001b[0;34m\u001b[0m\u001b[0m\n\u001b[0m\u001b[1;32m      2\u001b[0m \u001b[0mcall_vcf\u001b[0m \u001b[0;34m=\u001b[0m \u001b[0mopen\u001b[0m\u001b[0;34m(\u001b[0m\u001b[0;34m\"temp_c.vcf\"\u001b[0m\u001b[0;34m,\u001b[0m \u001b[0;34m\"r\"\u001b[0m\u001b[0;34m)\u001b[0m\u001b[0;34m\u001b[0m\u001b[0m\n\u001b[1;32m      3\u001b[0m \u001b[0mcompare_VCF_cells\u001b[0m\u001b[0;34m(\u001b[0m\u001b[0mreal_vcf\u001b[0m\u001b[0;34m,\u001b[0m \u001b[0mcall_vcf\u001b[0m\u001b[0;34m,\u001b[0m \u001b[0;36m2000\u001b[0m\u001b[0;34m)\u001b[0m\u001b[0;34m\u001b[0m\u001b[0m\n",
      "\u001b[0;31mFileNotFoundError\u001b[0m: [Errno 2] No such file or directory: 'temp_r.vcf'"
     ]
    }
   ],
   "source": [
    "real_vcf = open(\"temp_r.vcf\", \"r\")\n",
    "call_vcf = open(\"temp_c.vcf\", \"r\")\n",
    "compare_VCF_cells(real_vcf, call_vcf, 2000)\n"
   ]
  },
  {
   "cell_type": "code",
   "execution_count": 5,
   "metadata": {},
   "outputs": [],
   "source": [
    "def test_params(m_cells, iters, params):\n",
    "    site_results = []\n",
    "    cell_results = []\n",
    "    for i in range(iters):\n",
    "        T = simulator.Phylogeny()\n",
    "        T.evolve(n_generations=1000, germline=True)\n",
    "        T.evolve(n_cells=5, germline=False)\n",
    "        m = len(T.active_nodes)\n",
    "        T.prepare()\n",
    "        vcf_f = open(\"temp_r.vcf\", \"w+\")\n",
    "        T.write_vcf(vcf_f)\n",
    "        vcf_f.close()\n",
    "        pfile = open(\"temp.pileup\", \"w+\")\n",
    "        T.write_pileup(pfile)\n",
    "        pfile.close()\n",
    "        args = [\"../SCarborSNV\", \"-m\", str(m),\"-p\", \"temp.pileup\", \"-o\" \"temp_c.vcf\"]\n",
    "        for name, val in params.items():\n",
    "            args.append(\"--{}={}\".format(name, val))\n",
    "        subprocess.run(args)\n",
    "        real_vcf = open(\"temp_r.vcf\", \"r\")\n",
    "        call_vcf = open(\"temp_c.vcf\", \"r\")\n",
    "        site_results.append(compare_VCF_sites(real_vcf, call_vcf, 2000))\n",
    "        cell_results.append(compare_VCF_cells(real_vcf, call_vcf, 2000))\n",
    "        real_vcf.close()\n",
    "        call_vcf.close()\n",
    "    os.remove(\"temp.pileup\")\n",
    "    os.remove(\"temp_r.vcf\")\n",
    "    os.remove(\"temp_c.vcf\")\n",
    "    return (site_results, cell_results)\n",
    "        \n",
    "    "
   ]
  },
  {
   "cell_type": "code",
   "execution_count": 6,
   "metadata": {},
   "outputs": [
    {
     "ename": "FileNotFoundError",
     "evalue": "[Errno 2] No such file or directory: '../SCarborSNV'",
     "output_type": "error",
     "traceback": [
      "\u001b[0;31m---------------------------------------------------------------------------\u001b[0m",
      "\u001b[0;31mFileNotFoundError\u001b[0m                         Traceback (most recent call last)",
      "\u001b[0;32m<ipython-input-6-71684bc95096>\u001b[0m in \u001b[0;36m<module>\u001b[0;34m\u001b[0m\n\u001b[0;32m----> 1\u001b[0;31m \u001b[0mtest_params\u001b[0m\u001b[0;34m(\u001b[0m\u001b[0;36m6\u001b[0m\u001b[0;34m,\u001b[0m \u001b[0;36m3\u001b[0m\u001b[0;34m,\u001b[0m \u001b[0;34m{\u001b[0m\u001b[0;34m\"posterior-threshold\"\u001b[0m\u001b[0;34m:\u001b[0m \u001b[0;36m0\u001b[0m\u001b[0;34m}\u001b[0m\u001b[0;34m)\u001b[0m\u001b[0;34m\u001b[0m\u001b[0m\n\u001b[0m",
      "\u001b[0;32m<ipython-input-5-d88223bb6aa3>\u001b[0m in \u001b[0;36mtest_params\u001b[0;34m(m_cells, iters, params)\u001b[0m\n\u001b[1;32m     17\u001b[0m         \u001b[0;32mfor\u001b[0m \u001b[0mname\u001b[0m\u001b[0;34m,\u001b[0m \u001b[0mval\u001b[0m \u001b[0;32min\u001b[0m \u001b[0mparams\u001b[0m\u001b[0;34m.\u001b[0m\u001b[0mitems\u001b[0m\u001b[0;34m(\u001b[0m\u001b[0;34m)\u001b[0m\u001b[0;34m:\u001b[0m\u001b[0;34m\u001b[0m\u001b[0m\n\u001b[1;32m     18\u001b[0m             \u001b[0margs\u001b[0m\u001b[0;34m.\u001b[0m\u001b[0mappend\u001b[0m\u001b[0;34m(\u001b[0m\u001b[0;34m\"--{}={}\"\u001b[0m\u001b[0;34m.\u001b[0m\u001b[0mformat\u001b[0m\u001b[0;34m(\u001b[0m\u001b[0mname\u001b[0m\u001b[0;34m,\u001b[0m \u001b[0mval\u001b[0m\u001b[0;34m)\u001b[0m\u001b[0;34m)\u001b[0m\u001b[0;34m\u001b[0m\u001b[0m\n\u001b[0;32m---> 19\u001b[0;31m         \u001b[0msubprocess\u001b[0m\u001b[0;34m.\u001b[0m\u001b[0mrun\u001b[0m\u001b[0;34m(\u001b[0m\u001b[0margs\u001b[0m\u001b[0;34m)\u001b[0m\u001b[0;34m\u001b[0m\u001b[0m\n\u001b[0m\u001b[1;32m     20\u001b[0m         \u001b[0mreal_vcf\u001b[0m \u001b[0;34m=\u001b[0m \u001b[0mopen\u001b[0m\u001b[0;34m(\u001b[0m\u001b[0;34m\"temp_r.vcf\"\u001b[0m\u001b[0;34m,\u001b[0m \u001b[0;34m\"r\"\u001b[0m\u001b[0;34m)\u001b[0m\u001b[0;34m\u001b[0m\u001b[0m\n\u001b[1;32m     21\u001b[0m         \u001b[0mcall_vcf\u001b[0m \u001b[0;34m=\u001b[0m \u001b[0mopen\u001b[0m\u001b[0;34m(\u001b[0m\u001b[0;34m\"temp_c.vcf\"\u001b[0m\u001b[0;34m,\u001b[0m \u001b[0;34m\"r\"\u001b[0m\u001b[0;34m)\u001b[0m\u001b[0;34m\u001b[0m\u001b[0m\n",
      "\u001b[0;32m/usr/lib/python3.5/subprocess.py\u001b[0m in \u001b[0;36mrun\u001b[0;34m(input, timeout, check, *popenargs, **kwargs)\u001b[0m\n\u001b[1;32m    691\u001b[0m         \u001b[0mkwargs\u001b[0m\u001b[0;34m[\u001b[0m\u001b[0;34m'stdin'\u001b[0m\u001b[0;34m]\u001b[0m \u001b[0;34m=\u001b[0m \u001b[0mPIPE\u001b[0m\u001b[0;34m\u001b[0m\u001b[0m\n\u001b[1;32m    692\u001b[0m \u001b[0;34m\u001b[0m\u001b[0m\n\u001b[0;32m--> 693\u001b[0;31m     \u001b[0;32mwith\u001b[0m \u001b[0mPopen\u001b[0m\u001b[0;34m(\u001b[0m\u001b[0;34m*\u001b[0m\u001b[0mpopenargs\u001b[0m\u001b[0;34m,\u001b[0m \u001b[0;34m**\u001b[0m\u001b[0mkwargs\u001b[0m\u001b[0;34m)\u001b[0m \u001b[0;32mas\u001b[0m \u001b[0mprocess\u001b[0m\u001b[0;34m:\u001b[0m\u001b[0;34m\u001b[0m\u001b[0m\n\u001b[0m\u001b[1;32m    694\u001b[0m         \u001b[0;32mtry\u001b[0m\u001b[0;34m:\u001b[0m\u001b[0;34m\u001b[0m\u001b[0m\n\u001b[1;32m    695\u001b[0m             \u001b[0mstdout\u001b[0m\u001b[0;34m,\u001b[0m \u001b[0mstderr\u001b[0m \u001b[0;34m=\u001b[0m \u001b[0mprocess\u001b[0m\u001b[0;34m.\u001b[0m\u001b[0mcommunicate\u001b[0m\u001b[0;34m(\u001b[0m\u001b[0minput\u001b[0m\u001b[0;34m,\u001b[0m \u001b[0mtimeout\u001b[0m\u001b[0;34m=\u001b[0m\u001b[0mtimeout\u001b[0m\u001b[0;34m)\u001b[0m\u001b[0;34m\u001b[0m\u001b[0m\n",
      "\u001b[0;32m/usr/lib/python3.5/subprocess.py\u001b[0m in \u001b[0;36m__init__\u001b[0;34m(self, args, bufsize, executable, stdin, stdout, stderr, preexec_fn, close_fds, shell, cwd, env, universal_newlines, startupinfo, creationflags, restore_signals, start_new_session, pass_fds)\u001b[0m\n\u001b[1;32m    945\u001b[0m                                 \u001b[0mc2pread\u001b[0m\u001b[0;34m,\u001b[0m \u001b[0mc2pwrite\u001b[0m\u001b[0;34m,\u001b[0m\u001b[0;34m\u001b[0m\u001b[0m\n\u001b[1;32m    946\u001b[0m                                 \u001b[0merrread\u001b[0m\u001b[0;34m,\u001b[0m \u001b[0merrwrite\u001b[0m\u001b[0;34m,\u001b[0m\u001b[0;34m\u001b[0m\u001b[0m\n\u001b[0;32m--> 947\u001b[0;31m                                 restore_signals, start_new_session)\n\u001b[0m\u001b[1;32m    948\u001b[0m         \u001b[0;32mexcept\u001b[0m\u001b[0;34m:\u001b[0m\u001b[0;34m\u001b[0m\u001b[0m\n\u001b[1;32m    949\u001b[0m             \u001b[0;31m# Cleanup if the child failed starting.\u001b[0m\u001b[0;34m\u001b[0m\u001b[0;34m\u001b[0m\u001b[0m\n",
      "\u001b[0;32m/usr/lib/python3.5/subprocess.py\u001b[0m in \u001b[0;36m_execute_child\u001b[0;34m(self, args, executable, preexec_fn, close_fds, pass_fds, cwd, env, startupinfo, creationflags, shell, p2cread, p2cwrite, c2pread, c2pwrite, errread, errwrite, restore_signals, start_new_session)\u001b[0m\n\u001b[1;32m   1549\u001b[0m                             \u001b[0;32melse\u001b[0m\u001b[0;34m:\u001b[0m\u001b[0;34m\u001b[0m\u001b[0m\n\u001b[1;32m   1550\u001b[0m                                 \u001b[0merr_msg\u001b[0m \u001b[0;34m+=\u001b[0m \u001b[0;34m': '\u001b[0m \u001b[0;34m+\u001b[0m \u001b[0mrepr\u001b[0m\u001b[0;34m(\u001b[0m\u001b[0morig_executable\u001b[0m\u001b[0;34m)\u001b[0m\u001b[0;34m\u001b[0m\u001b[0m\n\u001b[0;32m-> 1551\u001b[0;31m                     \u001b[0;32mraise\u001b[0m \u001b[0mchild_exception_type\u001b[0m\u001b[0;34m(\u001b[0m\u001b[0merrno_num\u001b[0m\u001b[0;34m,\u001b[0m \u001b[0merr_msg\u001b[0m\u001b[0;34m)\u001b[0m\u001b[0;34m\u001b[0m\u001b[0m\n\u001b[0m\u001b[1;32m   1552\u001b[0m                 \u001b[0;32mraise\u001b[0m \u001b[0mchild_exception_type\u001b[0m\u001b[0;34m(\u001b[0m\u001b[0merr_msg\u001b[0m\u001b[0;34m)\u001b[0m\u001b[0;34m\u001b[0m\u001b[0m\n\u001b[1;32m   1553\u001b[0m \u001b[0;34m\u001b[0m\u001b[0m\n",
      "\u001b[0;31mFileNotFoundError\u001b[0m: [Errno 2] No such file or directory: '../SCarborSNV'"
     ]
    }
   ],
   "source": [
    "test_params(6, 3, {\"posterior-threshold\": 0})"
   ]
  },
  {
   "cell_type": "code",
   "execution_count": null,
   "metadata": {},
   "outputs": [],
   "source": [
    "#Finding best thresholds with everything else default, 10 cells\n",
    "posterior_threshs = [0.01,0.02] #[0, 1.0e-9, 1.0e-6, 1.0e-3, 5.0e-3, 0.01, 0.02, 0.05, 0.1, 0.15, 0.2, 0.3, 0.5, 1]\n",
    "candidate_threshs = [0.5, 0.6] #[0.3, 0.4, 0.5, 0.6, 0.7, 0.9]\n",
    "site_data = pd.DataFrame(columns=[\"cand\",\"post\",\"precision\",\"recall\",\"F1\"])\n",
    "cell_data = pd.DataFrame(columns=[\"cand\",\"post\",\"precision\",\"recall\",\"F1\"])\n",
    "i = 0\n",
    "for t1 in candidate_threshs:\n",
    "    for t2 in posterior_threshs:\n",
    "        prms = {}\n",
    "        prms[\"candidate-threshold\"] = t1\n",
    "        prms[\"posterior-threshold\"] = t2\n",
    "        site_res, cell_res = test_params(4, 2, prms) #10, 10\n",
    "        for j in range(2): #10\n",
    "            site_data.loc[i] = [t1, t2, *site_res[j]]\n",
    "            cell_data.loc[i] = [t1, t2, *cell_res[j]]\n",
    "            i += 1\n",
    "        "
   ]
  },
  {
   "cell_type": "code",
   "execution_count": 103,
   "metadata": {},
   "outputs": [],
   "source": [
    "cell_data.to_csv(\"cell_data.csv\", index=False)\n",
    "site_data.to_csv(\"site_data.csv\", index=False)\n"
   ]
  },
  {
   "cell_type": "code",
   "execution_count": 40,
   "metadata": {},
   "outputs": [],
   "source": [
    "#After running full grid search on other machine\n",
    "cell_results = pd.read_csv(\"cell_data.csv\")\n",
    "cand_results = cell_results.groupby(['cand']).mean().copy()\n",
    "post_results = cell_results.groupby(['post']).mean().copy()"
   ]
  },
  {
   "cell_type": "code",
   "execution_count": 82,
   "metadata": {},
   "outputs": [],
   "source": [
    "#argnames = [\"lambda\", \"mu\", \"p-haploid\", \"p-clonal\",\"pileup-file\", \"vcf-file\",\"n-cells\",\"temp-file\",\"amp-err\",\"p-ado\",\"candidate-threshold\",\"posterior-threshold\"] "
   ]
  },
  {
   "cell_type": "code",
   "execution_count": 64,
   "metadata": {},
   "outputs": [
    {
     "data": {
      "text/html": [
       "<div>\n",
       "<style scoped>\n",
       "    .dataframe tbody tr th:only-of-type {\n",
       "        vertical-align: middle;\n",
       "    }\n",
       "\n",
       "    .dataframe tbody tr th {\n",
       "        vertical-align: top;\n",
       "    }\n",
       "\n",
       "    .dataframe thead th {\n",
       "        text-align: right;\n",
       "    }\n",
       "</style>\n",
       "<table border=\"1\" class=\"dataframe\">\n",
       "  <thead>\n",
       "    <tr style=\"text-align: right;\">\n",
       "      <th></th>\n",
       "      <th>post</th>\n",
       "      <th>precision</th>\n",
       "      <th>recall</th>\n",
       "      <th>F1</th>\n",
       "    </tr>\n",
       "    <tr>\n",
       "      <th>cand</th>\n",
       "      <th></th>\n",
       "      <th></th>\n",
       "      <th></th>\n",
       "      <th></th>\n",
       "    </tr>\n",
       "  </thead>\n",
       "  <tbody>\n",
       "    <tr>\n",
       "      <th>0.3</th>\n",
       "      <td>0.166857</td>\n",
       "      <td>0.822254</td>\n",
       "      <td>0.981761</td>\n",
       "      <td>0.878733</td>\n",
       "    </tr>\n",
       "    <tr>\n",
       "      <th>0.4</th>\n",
       "      <td>0.166857</td>\n",
       "      <td>0.824181</td>\n",
       "      <td>0.986261</td>\n",
       "      <td>0.882301</td>\n",
       "    </tr>\n",
       "    <tr>\n",
       "      <th>0.5</th>\n",
       "      <td>0.166857</td>\n",
       "      <td>0.824466</td>\n",
       "      <td>0.985259</td>\n",
       "      <td>0.882210</td>\n",
       "    </tr>\n",
       "    <tr>\n",
       "      <th>0.6</th>\n",
       "      <td>0.166857</td>\n",
       "      <td>0.834303</td>\n",
       "      <td>0.986659</td>\n",
       "      <td>0.889811</td>\n",
       "    </tr>\n",
       "    <tr>\n",
       "      <th>0.7</th>\n",
       "      <td>0.166857</td>\n",
       "      <td>0.830773</td>\n",
       "      <td>0.986161</td>\n",
       "      <td>0.887518</td>\n",
       "    </tr>\n",
       "    <tr>\n",
       "      <th>0.9</th>\n",
       "      <td>0.166857</td>\n",
       "      <td>0.814839</td>\n",
       "      <td>0.986065</td>\n",
       "      <td>0.874763</td>\n",
       "    </tr>\n",
       "  </tbody>\n",
       "</table>\n",
       "</div>"
      ],
      "text/plain": [
       "          post  precision    recall        F1\n",
       "cand                                         \n",
       "0.3   0.166857   0.822254  0.981761  0.878733\n",
       "0.4   0.166857   0.824181  0.986261  0.882301\n",
       "0.5   0.166857   0.824466  0.985259  0.882210\n",
       "0.6   0.166857   0.834303  0.986659  0.889811\n",
       "0.7   0.166857   0.830773  0.986161  0.887518\n",
       "0.9   0.166857   0.814839  0.986065  0.874763"
      ]
     },
     "execution_count": 64,
     "metadata": {},
     "output_type": "execute_result"
    },
    {
     "data": {
      "image/png": "[encoded data removed]",
      "text/plain": [
       "<Figure size 432x288 with 1 Axes>"
      ]
     },
     "metadata": {
      "needs_background": "light"
     },
     "output_type": "display_data"
    }
   ],
   "source": [
    "#After running all the above as a script to get csv files...\n",
    "#This could be for an appendix on parameter tuning...\n",
    "plt.plot([0.3,0.4,0.5,0.6,0.7,0.9], cand_results[['F1']])\n",
    "cand_results\n",
    "#After set best threshold should do this with more points around the max..."
   ]
  },
  {
   "cell_type": "code",
   "execution_count": 59,
   "metadata": {},
   "outputs": [
    {
     "data": {
      "image/png": "[encoded data removed]",
      "text/plain": [
       "<Figure size 432x288 with 1 Axes>"
      ]
     },
     "metadata": {
      "needs_background": "light"
     },
     "output_type": "display_data"
    }
   ],
   "source": [
    "post_x = [0, 1.0e-9, 1.0e-6, 1.0e-3, 5.0e-3, 0.01, 0.02, 0.05, 0.1, 0.15, 0.2, 0.3, 0.5, 1]\n",
    "#plt.\n",
    "fig = plt.figure()\n",
    "ax = plt.gca()\n",
    "ax.plot(post_x, post_results[['F1']].values)\n",
    "#ax.set_yscale('log')\n",
    "ax.set_xscale('log')\n",
    "#This needs more results. Maybe set other thresh at 0.6 & gpah one variable."
   ]
  }
 ],
 "metadata": {
  "kernelspec": {
   "display_name": "Python 3",
   "language": "python",
   "name": "python3"
  },
  "language_info": {
   "codemirror_mode": {
    "name": "ipython",
    "version": 3
   },
   "file_extension": ".py",
   "mimetype": "text/x-python",
   "name": "python",
   "nbconvert_exporter": "python",
   "pygments_lexer": "ipython3",
   "version": "3.5.2"
  }
 },
 "nbformat": 4,
 "nbformat_minor": 2
}
